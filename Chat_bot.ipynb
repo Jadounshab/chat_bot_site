{
 "cells": [
  {
   "cell_type": "code",
   "execution_count": 1,
   "id": "633c07a1",
   "metadata": {},
   "outputs": [
    {
     "name": "stdout",
     "output_type": "stream",
     "text": [
      "Collecting openai==0.28Note: you may need to restart the kernel to use updated packages.\n",
      "\n",
      "  Using cached openai-0.28.0-py3-none-any.whl.metadata (13 kB)\n",
      "Requirement already satisfied: requests>=2.20 in c:\\users\\99299\\appdata\\local\\programs\\python\\python310\\lib\\site-packages (from openai==0.28) (2.31.0)\n",
      "Requirement already satisfied: tqdm in c:\\users\\99299\\appdata\\local\\programs\\python\\python310\\lib\\site-packages (from openai==0.28) (4.64.1)\n",
      "Requirement already satisfied: aiohttp in c:\\users\\99299\\appdata\\local\\programs\\python\\python310\\lib\\site-packages (from openai==0.28) (3.9.1)\n",
      "Requirement already satisfied: charset-normalizer<4,>=2 in c:\\users\\99299\\appdata\\local\\programs\\python\\python310\\lib\\site-packages (from requests>=2.20->openai==0.28) (2.1.0)\n",
      "Requirement already satisfied: idna<4,>=2.5 in c:\\users\\99299\\appdata\\local\\programs\\python\\python310\\lib\\site-packages (from requests>=2.20->openai==0.28) (3.3)\n",
      "Requirement already satisfied: urllib3<3,>=1.21.1 in c:\\users\\99299\\appdata\\local\\programs\\python\\python310\\lib\\site-packages (from requests>=2.20->openai==0.28) (1.26.10)\n",
      "Requirement already satisfied: certifi>=2017.4.17 in c:\\users\\99299\\appdata\\local\\programs\\python\\python310\\lib\\site-packages (from requests>=2.20->openai==0.28) (2022.6.15)\n",
      "Requirement already satisfied: attrs>=17.3.0 in c:\\users\\99299\\appdata\\local\\programs\\python\\python310\\lib\\site-packages (from aiohttp->openai==0.28) (21.4.0)\n",
      "Requirement already satisfied: multidict<7.0,>=4.5 in c:\\users\\99299\\appdata\\local\\programs\\python\\python310\\lib\\site-packages (from aiohttp->openai==0.28) (6.0.4)\n",
      "Requirement already satisfied: yarl<2.0,>=1.0 in c:\\users\\99299\\appdata\\local\\programs\\python\\python310\\lib\\site-packages (from aiohttp->openai==0.28) (1.9.4)\n",
      "Requirement already satisfied: frozenlist>=1.1.1 in c:\\users\\99299\\appdata\\local\\programs\\python\\python310\\lib\\site-packages (from aiohttp->openai==0.28) (1.4.1)\n",
      "Requirement already satisfied: aiosignal>=1.1.2 in c:\\users\\99299\\appdata\\local\\programs\\python\\python310\\lib\\site-packages (from aiohttp->openai==0.28) (1.3.1)\n",
      "Requirement already satisfied: async-timeout<5.0,>=4.0 in c:\\users\\99299\\appdata\\local\\programs\\python\\python310\\lib\\site-packages (from aiohttp->openai==0.28) (4.0.3)\n",
      "Requirement already satisfied: colorama in c:\\users\\99299\\appdata\\local\\programs\\python\\python310\\lib\\site-packages (from tqdm->openai==0.28) (0.4.5)\n",
      "Using cached openai-0.28.0-py3-none-any.whl (76 kB)\n",
      "Installing collected packages: openai\n",
      "  Attempting uninstall: openai\n",
      "    Found existing installation: openai 0.27.6\n",
      "    Uninstalling openai-0.27.6:\n",
      "      Successfully uninstalled openai-0.27.6\n",
      "Successfully installed openai-0.28.0\n"
     ]
    },
    {
     "name": "stderr",
     "output_type": "stream",
     "text": [
      "WARNING: Ignoring invalid distribution -illow (c:\\users\\99299\\appdata\\local\\programs\\python\\python310\\lib\\site-packages)\n",
      "WARNING: Ignoring invalid distribution -treamlit (c:\\users\\99299\\appdata\\local\\programs\\python\\python310\\lib\\site-packages)\n",
      "WARNING: Ignoring invalid distribution -illow (c:\\users\\99299\\appdata\\local\\programs\\python\\python310\\lib\\site-packages)\n",
      "WARNING: Ignoring invalid distribution -treamlit (c:\\users\\99299\\appdata\\local\\programs\\python\\python310\\lib\\site-packages)\n",
      "ERROR: pip's dependency resolver does not currently take into account all the packages that are installed. This behaviour is the source of the following dependency conflicts.\n",
      "gpt-index 0.8.42 requires langchain>=0.0.303, but you have langchain 0.0.184 which is incompatible.\n"
     ]
    }
   ],
   "source": [
    "pip install openai==0.28"
   ]
  },
  {
   "cell_type": "code",
   "execution_count": 2,
   "id": "60e9f059",
   "metadata": {},
   "outputs": [
    {
     "name": "stdout",
     "output_type": "stream",
     "text": [
      "Requirement already satisfied: gpt_index in c:\\users\\99299\\appdata\\local\\programs\\python\\python310\\lib\\site-packages (0.8.42)\n",
      "Requirement already satisfied: tiktoken in c:\\users\\99299\\appdata\\local\\programs\\python\\python310\\lib\\site-packages (from gpt_index) (0.4.0)\n",
      "Requirement already satisfied: dataclasses-json in c:\\users\\99299\\appdata\\local\\programs\\python\\python310\\lib\\site-packages (from gpt_index) (0.5.14)\n",
      "Collecting langchain>=0.0.303 (from gpt_index)\n",
      "  Using cached langchain-0.1.1-py3-none-any.whl.metadata (13 kB)\n",
      "Requirement already satisfied: sqlalchemy>=2.0.15 in c:\\users\\99299\\appdata\\local\\programs\\python\\python310\\lib\\site-packages (from gpt_index) (2.0.25)\n",
      "Requirement already satisfied: numpy in c:\\users\\99299\\appdata\\local\\programs\\python\\python310\\lib\\site-packages (from gpt_index) (1.24.1)\n",
      "Requirement already satisfied: tenacity<9.0.0,>=8.2.0 in c:\\users\\99299\\appdata\\local\\programs\\python\\python310\\lib\\site-packages (from gpt_index) (8.2.2)\n",
      "Requirement already satisfied: openai>=0.26.4 in c:\\users\\99299\\appdata\\local\\programs\\python\\python310\\lib\\site-packages (from gpt_index) (0.28.0)\n",
      "Requirement already satisfied: pandas in c:\\users\\99299\\appdata\\local\\programs\\python\\python310\\lib\\site-packages (from gpt_index) (2.0.2)\n",
      "Requirement already satisfied: urllib3<2 in c:\\users\\99299\\appdata\\local\\programs\\python\\python310\\lib\\site-packages (from gpt_index) (1.26.10)\n",
      "Requirement already satisfied: fsspec>=2023.5.0 in c:\\users\\99299\\appdata\\local\\programs\\python\\python310\\lib\\site-packages (from gpt_index) (2023.10.0)\n",
      "Requirement already satisfied: typing-inspect>=0.8.0 in c:\\users\\99299\\appdata\\local\\programs\\python\\python310\\lib\\site-packages (from gpt_index) (0.9.0)\n",
      "Requirement already satisfied: typing-extensions>=4.5.0 in c:\\users\\99299\\appdata\\local\\programs\\python\\python310\\lib\\site-packages (from gpt_index) (4.7.1)\n",
      "Requirement already satisfied: beautifulsoup4 in c:\\users\\99299\\appdata\\local\\programs\\python\\python310\\lib\\site-packages (from gpt_index) (4.11.1)\n",
      "Requirement already satisfied: nest-asyncio in c:\\users\\99299\\appdata\\local\\programs\\python\\python310\\lib\\site-packages (from gpt_index) (1.5.5)\n",
      "Requirement already satisfied: nltk in c:\\users\\99299\\appdata\\local\\programs\\python\\python310\\lib\\site-packages (from gpt_index) (3.8.1)\n",
      "Requirement already satisfied: PyYAML>=5.3 in c:\\users\\99299\\appdata\\local\\programs\\python\\python310\\lib\\site-packages (from langchain>=0.0.303->gpt_index) (6.0.1)\n",
      "Requirement already satisfied: aiohttp<4.0.0,>=3.8.3 in c:\\users\\99299\\appdata\\local\\programs\\python\\python310\\lib\\site-packages (from langchain>=0.0.303->gpt_index) (3.9.1)\n",
      "Requirement already satisfied: async-timeout<5.0.0,>=4.0.0 in c:\\users\\99299\\appdata\\local\\programs\\python\\python310\\lib\\site-packages (from langchain>=0.0.303->gpt_index) (4.0.3)\n",
      "Requirement already satisfied: jsonpatch<2.0,>=1.33 in c:\\users\\99299\\appdata\\local\\programs\\python\\python310\\lib\\site-packages (from langchain>=0.0.303->gpt_index) (1.33)\n",
      "Requirement already satisfied: langchain-community<0.1,>=0.0.13 in c:\\users\\99299\\appdata\\local\\programs\\python\\python310\\lib\\site-packages (from langchain>=0.0.303->gpt_index) (0.0.13)\n",
      "Requirement already satisfied: langchain-core<0.2,>=0.1.9 in c:\\users\\99299\\appdata\\local\\programs\\python\\python310\\lib\\site-packages (from langchain>=0.0.303->gpt_index) (0.1.13)\n",
      "Requirement already satisfied: langsmith<0.1.0,>=0.0.77 in c:\\users\\99299\\appdata\\local\\programs\\python\\python310\\lib\\site-packages (from langchain>=0.0.303->gpt_index) (0.0.83)\n",
      "Requirement already satisfied: pydantic<3,>=1 in c:\\users\\99299\\appdata\\local\\programs\\python\\python310\\lib\\site-packages (from langchain>=0.0.303->gpt_index) (1.10.14)\n",
      "Requirement already satisfied: requests<3,>=2 in c:\\users\\99299\\appdata\\local\\programs\\python\\python310\\lib\\site-packages (from langchain>=0.0.303->gpt_index) (2.31.0)\n",
      "Requirement already satisfied: marshmallow<4.0.0,>=3.18.0 in c:\\users\\99299\\appdata\\local\\programs\\python\\python310\\lib\\site-packages (from dataclasses-json->gpt_index) (3.20.2)\n",
      "Requirement already satisfied: tqdm in c:\\users\\99299\\appdata\\local\\programs\\python\\python310\\lib\\site-packages (from openai>=0.26.4->gpt_index) (4.64.1)\n",
      "Requirement already satisfied: greenlet!=0.4.17 in c:\\users\\99299\\appdata\\local\\programs\\python\\python310\\lib\\site-packages (from sqlalchemy>=2.0.15->gpt_index) (3.0.3)\n",
      "Requirement already satisfied: mypy-extensions>=0.3.0 in c:\\users\\99299\\appdata\\local\\programs\\python\\python310\\lib\\site-packages (from typing-inspect>=0.8.0->gpt_index) (1.0.0)\n",
      "Requirement already satisfied: soupsieve>1.2 in c:\\users\\99299\\appdata\\local\\programs\\python\\python310\\lib\\site-packages (from beautifulsoup4->gpt_index) (2.3.2.post1)\n",
      "Requirement already satisfied: click in c:\\users\\99299\\appdata\\local\\programs\\python\\python310\\lib\\site-packages (from nltk->gpt_index) (8.1.6)\n",
      "Requirement already satisfied: joblib in c:\\users\\99299\\appdata\\local\\programs\\python\\python310\\lib\\site-packages (from nltk->gpt_index) (1.3.2)\n",
      "Requirement already satisfied: regex>=2021.8.3 in c:\\users\\99299\\appdata\\local\\programs\\python\\python310\\lib\\site-packages (from nltk->gpt_index) (2023.10.3)\n",
      "Requirement already satisfied: python-dateutil>=2.8.2 in c:\\users\\99299\\appdata\\local\\programs\\python\\python310\\lib\\site-packages (from pandas->gpt_index) (2.8.2)\n",
      "Requirement already satisfied: pytz>=2020.1 in c:\\users\\99299\\appdata\\local\\programs\\python\\python310\\lib\\site-packages (from pandas->gpt_index) (2023.3)\n",
      "Requirement already satisfied: tzdata>=2022.1 in c:\\users\\99299\\appdata\\local\\programs\\python\\python310\\lib\\site-packages (from pandas->gpt_index) (2023.3)\n",
      "Requirement already satisfied: attrs>=17.3.0 in c:\\users\\99299\\appdata\\local\\programs\\python\\python310\\lib\\site-packages (from aiohttp<4.0.0,>=3.8.3->langchain>=0.0.303->gpt_index) (21.4.0)\n",
      "Requirement already satisfied: multidict<7.0,>=4.5 in c:\\users\\99299\\appdata\\local\\programs\\python\\python310\\lib\\site-packages (from aiohttp<4.0.0,>=3.8.3->langchain>=0.0.303->gpt_index) (6.0.4)\n",
      "Requirement already satisfied: yarl<2.0,>=1.0 in c:\\users\\99299\\appdata\\local\\programs\\python\\python310\\lib\\site-packages (from aiohttp<4.0.0,>=3.8.3->langchain>=0.0.303->gpt_index) (1.9.4)\n",
      "Requirement already satisfied: frozenlist>=1.1.1 in c:\\users\\99299\\appdata\\local\\programs\\python\\python310\\lib\\site-packages (from aiohttp<4.0.0,>=3.8.3->langchain>=0.0.303->gpt_index) (1.4.1)\n",
      "Requirement already satisfied: aiosignal>=1.1.2 in c:\\users\\99299\\appdata\\local\\programs\\python\\python310\\lib\\site-packages (from aiohttp<4.0.0,>=3.8.3->langchain>=0.0.303->gpt_index) (1.3.1)\n",
      "Requirement already satisfied: jsonpointer>=1.9 in c:\\users\\99299\\appdata\\local\\programs\\python\\python310\\lib\\site-packages (from jsonpatch<2.0,>=1.33->langchain>=0.0.303->gpt_index) (2.4)\n",
      "Requirement already satisfied: anyio<5,>=3 in c:\\users\\99299\\appdata\\local\\programs\\python\\python310\\lib\\site-packages (from langchain-core<0.2,>=0.1.9->langchain>=0.0.303->gpt_index) (3.6.1)\n",
      "Requirement already satisfied: packaging<24.0,>=23.2 in c:\\users\\99299\\appdata\\local\\programs\\python\\python310\\lib\\site-packages (from langchain-core<0.2,>=0.1.9->langchain>=0.0.303->gpt_index) (23.2)\n",
      "Requirement already satisfied: six>=1.5 in c:\\users\\99299\\appdata\\local\\programs\\python\\python310\\lib\\site-packages (from python-dateutil>=2.8.2->pandas->gpt_index) (1.16.0)\n",
      "Requirement already satisfied: charset-normalizer<4,>=2 in c:\\users\\99299\\appdata\\local\\programs\\python\\python310\\lib\\site-packages (from requests<3,>=2->langchain>=0.0.303->gpt_index) (2.1.0)\n",
      "Requirement already satisfied: idna<4,>=2.5 in c:\\users\\99299\\appdata\\local\\programs\\python\\python310\\lib\\site-packages (from requests<3,>=2->langchain>=0.0.303->gpt_index) (3.3)\n",
      "Requirement already satisfied: certifi>=2017.4.17 in c:\\users\\99299\\appdata\\local\\programs\\python\\python310\\lib\\site-packages (from requests<3,>=2->langchain>=0.0.303->gpt_index) (2022.6.15)\n",
      "Requirement already satisfied: colorama in c:\\users\\99299\\appdata\\local\\programs\\python\\python310\\lib\\site-packages (from click->nltk->gpt_index) (0.4.5)\n",
      "Requirement already satisfied: sniffio>=1.1 in c:\\users\\99299\\appdata\\local\\programs\\python\\python310\\lib\\site-packages (from anyio<5,>=3->langchain-core<0.2,>=0.1.9->langchain>=0.0.303->gpt_index) (1.2.0)\n",
      "Using cached langchain-0.1.1-py3-none-any.whl (802 kB)\n",
      "Installing collected packages: langchain\n",
      "  Attempting uninstall: langchain\n",
      "    Found existing installation: langchain 0.0.184\n",
      "    Uninstalling langchain-0.0.184:\n",
      "      Successfully uninstalled langchain-0.0.184\n",
      "Successfully installed langchain-0.1.1\n",
      "Note: you may need to restart the kernel to use updated packages.\n"
     ]
    },
    {
     "name": "stderr",
     "output_type": "stream",
     "text": [
      "WARNING: Ignoring invalid distribution -illow (c:\\users\\99299\\appdata\\local\\programs\\python\\python310\\lib\\site-packages)\n",
      "WARNING: Ignoring invalid distribution -treamlit (c:\\users\\99299\\appdata\\local\\programs\\python\\python310\\lib\\site-packages)\n",
      "WARNING: Ignoring invalid distribution -illow (c:\\users\\99299\\appdata\\local\\programs\\python\\python310\\lib\\site-packages)\n",
      "WARNING: Ignoring invalid distribution -treamlit (c:\\users\\99299\\appdata\\local\\programs\\python\\python310\\lib\\site-packages)\n"
     ]
    }
   ],
   "source": [
    "pip install gpt_index\n"
   ]
  },
  {
   "cell_type": "code",
   "execution_count": 3,
   "id": "dd2846e9",
   "metadata": {},
   "outputs": [
    {
     "name": "stdout",
     "output_type": "stream",
     "text": [
      "Requirement already satisfied: langchain in c:\\users\\99299\\appdata\\local\\programs\\python\\python310\\lib\\site-packages (0.1.1)\n",
      "Requirement already satisfied: PyYAML>=5.3 in c:\\users\\99299\\appdata\\local\\programs\\python\\python310\\lib\\site-packages (from langchain) (6.0.1)\n",
      "Requirement already satisfied: SQLAlchemy<3,>=1.4 in c:\\users\\99299\\appdata\\local\\programs\\python\\python310\\lib\\site-packages (from langchain) (2.0.25)\n",
      "Requirement already satisfied: aiohttp<4.0.0,>=3.8.3 in c:\\users\\99299\\appdata\\local\\programs\\python\\python310\\lib\\site-packages (from langchain) (3.9.1)\n",
      "Requirement already satisfied: async-timeout<5.0.0,>=4.0.0 in c:\\users\\99299\\appdata\\local\\programs\\python\\python310\\lib\\site-packages (from langchain) (4.0.3)\n",
      "Requirement already satisfied: dataclasses-json<0.7,>=0.5.7 in c:\\users\\99299\\appdata\\local\\programs\\python\\python310\\lib\\site-packages (from langchain) (0.5.14)\n",
      "Requirement already satisfied: jsonpatch<2.0,>=1.33 in c:\\users\\99299\\appdata\\local\\programs\\python\\python310\\lib\\site-packages (from langchain) (1.33)\n",
      "Requirement already satisfied: langchain-community<0.1,>=0.0.13 in c:\\users\\99299\\appdata\\local\\programs\\python\\python310\\lib\\site-packages (from langchain) (0.0.13)\n",
      "Requirement already satisfied: langchain-core<0.2,>=0.1.9 in c:\\users\\99299\\appdata\\local\\programs\\python\\python310\\lib\\site-packages (from langchain) (0.1.13)\n",
      "Requirement already satisfied: langsmith<0.1.0,>=0.0.77 in c:\\users\\99299\\appdata\\local\\programs\\python\\python310\\lib\\site-packages (from langchain) (0.0.83)\n",
      "Requirement already satisfied: numpy<2,>=1 in c:\\users\\99299\\appdata\\local\\programs\\python\\python310\\lib\\site-packages (from langchain) (1.24.1)\n",
      "Requirement already satisfied: pydantic<3,>=1 in c:\\users\\99299\\appdata\\local\\programs\\python\\python310\\lib\\site-packages (from langchain) (1.10.14)\n",
      "Requirement already satisfied: requests<3,>=2 in c:\\users\\99299\\appdata\\local\\programs\\python\\python310\\lib\\site-packages (from langchain) (2.31.0)\n",
      "Requirement already satisfied: tenacity<9.0.0,>=8.1.0 in c:\\users\\99299\\appdata\\local\\programs\\python\\python310\\lib\\site-packages (from langchain) (8.2.2)\n",
      "Requirement already satisfied: attrs>=17.3.0 in c:\\users\\99299\\appdata\\local\\programs\\python\\python310\\lib\\site-packages (from aiohttp<4.0.0,>=3.8.3->langchain) (21.4.0)\n",
      "Requirement already satisfied: multidict<7.0,>=4.5 in c:\\users\\99299\\appdata\\local\\programs\\python\\python310\\lib\\site-packages (from aiohttp<4.0.0,>=3.8.3->langchain) (6.0.4)\n",
      "Requirement already satisfied: yarl<2.0,>=1.0 in c:\\users\\99299\\appdata\\local\\programs\\python\\python310\\lib\\site-packages (from aiohttp<4.0.0,>=3.8.3->langchain) (1.9.4)\n",
      "Requirement already satisfied: frozenlist>=1.1.1 in c:\\users\\99299\\appdata\\local\\programs\\python\\python310\\lib\\site-packages (from aiohttp<4.0.0,>=3.8.3->langchain) (1.4.1)\n",
      "Requirement already satisfied: aiosignal>=1.1.2 in c:\\users\\99299\\appdata\\local\\programs\\python\\python310\\lib\\site-packages (from aiohttp<4.0.0,>=3.8.3->langchain) (1.3.1)\n",
      "Requirement already satisfied: marshmallow<4.0.0,>=3.18.0 in c:\\users\\99299\\appdata\\local\\programs\\python\\python310\\lib\\site-packages (from dataclasses-json<0.7,>=0.5.7->langchain) (3.20.2)\n",
      "Requirement already satisfied: typing-inspect<1,>=0.4.0 in c:\\users\\99299\\appdata\\local\\programs\\python\\python310\\lib\\site-packages (from dataclasses-json<0.7,>=0.5.7->langchain) (0.9.0)\n",
      "Requirement already satisfied: jsonpointer>=1.9 in c:\\users\\99299\\appdata\\local\\programs\\python\\python310\\lib\\site-packages (from jsonpatch<2.0,>=1.33->langchain) (2.4)\n",
      "Requirement already satisfied: anyio<5,>=3 in c:\\users\\99299\\appdata\\local\\programs\\python\\python310\\lib\\site-packages (from langchain-core<0.2,>=0.1.9->langchain) (3.6.1)\n",
      "Requirement already satisfied: packaging<24.0,>=23.2 in c:\\users\\99299\\appdata\\local\\programs\\python\\python310\\lib\\site-packages (from langchain-core<0.2,>=0.1.9->langchain) (23.2)\n",
      "Requirement already satisfied: typing-extensions>=4.2.0 in c:\\users\\99299\\appdata\\local\\programs\\python\\python310\\lib\\site-packages (from pydantic<3,>=1->langchain) (4.7.1)\n",
      "Requirement already satisfied: charset-normalizer<4,>=2 in c:\\users\\99299\\appdata\\local\\programs\\python\\python310\\lib\\site-packages (from requests<3,>=2->langchain) (2.1.0)\n",
      "Requirement already satisfied: idna<4,>=2.5 in c:\\users\\99299\\appdata\\local\\programs\\python\\python310\\lib\\site-packages (from requests<3,>=2->langchain) (3.3)\n",
      "Requirement already satisfied: urllib3<3,>=1.21.1 in c:\\users\\99299\\appdata\\local\\programs\\python\\python310\\lib\\site-packages (from requests<3,>=2->langchain) (1.26.10)\n",
      "Requirement already satisfied: certifi>=2017.4.17 in c:\\users\\99299\\appdata\\local\\programs\\python\\python310\\lib\\site-packages (from requests<3,>=2->langchain) (2022.6.15)\n",
      "Requirement already satisfied: greenlet!=0.4.17 in c:\\users\\99299\\appdata\\local\\programs\\python\\python310\\lib\\site-packages (from SQLAlchemy<3,>=1.4->langchain) (3.0.3)\n",
      "Requirement already satisfied: sniffio>=1.1 in c:\\users\\99299\\appdata\\local\\programs\\python\\python310\\lib\\site-packages (from anyio<5,>=3->langchain-core<0.2,>=0.1.9->langchain) (1.2.0)\n",
      "Requirement already satisfied: mypy-extensions>=0.3.0 in c:\\users\\99299\\appdata\\local\\programs\\python\\python310\\lib\\site-packages (from typing-inspect<1,>=0.4.0->dataclasses-json<0.7,>=0.5.7->langchain) (1.0.0)\n",
      "Note: you may need to restart the kernel to use updated packages.\n"
     ]
    },
    {
     "name": "stderr",
     "output_type": "stream",
     "text": [
      "WARNING: Ignoring invalid distribution -illow (c:\\users\\99299\\appdata\\local\\programs\\python\\python310\\lib\\site-packages)\n",
      "WARNING: Ignoring invalid distribution -treamlit (c:\\users\\99299\\appdata\\local\\programs\\python\\python310\\lib\\site-packages)\n",
      "WARNING: Ignoring invalid distribution -illow (c:\\users\\99299\\appdata\\local\\programs\\python\\python310\\lib\\site-packages)\n",
      "WARNING: Ignoring invalid distribution -treamlit (c:\\users\\99299\\appdata\\local\\programs\\python\\python310\\lib\\site-packages)\n"
     ]
    }
   ],
   "source": [
    "pip install langchain\n"
   ]
  },
  {
   "cell_type": "code",
   "execution_count": 4,
   "id": "62a2729e",
   "metadata": {},
   "outputs": [
    {
     "name": "stdout",
     "output_type": "stream",
     "text": [
      "Requirement already satisfied: transformers in c:\\users\\99299\\appdata\\local\\programs\\python\\python310\\lib\\site-packages (4.35.2)Note: you may need to restart the kernel to use updated packages.\n"
     ]
    },
    {
     "name": "stderr",
     "output_type": "stream",
     "text": [
      "WARNING: Ignoring invalid distribution -illow (c:\\users\\99299\\appdata\\local\\programs\\python\\python310\\lib\\site-packages)\n",
      "WARNING: Ignoring invalid distribution -treamlit (c:\\users\\99299\\appdata\\local\\programs\\python\\python310\\lib\\site-packages)\n",
      "WARNING: Ignoring invalid distribution -illow (c:\\users\\99299\\appdata\\local\\programs\\python\\python310\\lib\\site-packages)\n",
      "WARNING: Ignoring invalid distribution -treamlit (c:\\users\\99299\\appdata\\local\\programs\\python\\python310\\lib\\site-packages)\n"
     ]
    },
    {
     "name": "stdout",
     "output_type": "stream",
     "text": [
      "\n",
      "Requirement already satisfied: filelock in c:\\users\\99299\\appdata\\local\\programs\\python\\python310\\lib\\site-packages (from transformers) (3.12.4)\n",
      "Requirement already satisfied: huggingface-hub<1.0,>=0.16.4 in c:\\users\\99299\\appdata\\local\\programs\\python\\python310\\lib\\site-packages (from transformers) (0.19.4)\n",
      "Requirement already satisfied: numpy>=1.17 in c:\\users\\99299\\appdata\\local\\programs\\python\\python310\\lib\\site-packages (from transformers) (1.24.1)\n",
      "Requirement already satisfied: packaging>=20.0 in c:\\users\\99299\\appdata\\local\\programs\\python\\python310\\lib\\site-packages (from transformers) (23.2)\n",
      "Requirement already satisfied: pyyaml>=5.1 in c:\\users\\99299\\appdata\\local\\programs\\python\\python310\\lib\\site-packages (from transformers) (6.0.1)\n",
      "Requirement already satisfied: regex!=2019.12.17 in c:\\users\\99299\\appdata\\local\\programs\\python\\python310\\lib\\site-packages (from transformers) (2023.10.3)\n",
      "Requirement already satisfied: requests in c:\\users\\99299\\appdata\\local\\programs\\python\\python310\\lib\\site-packages (from transformers) (2.31.0)\n",
      "Requirement already satisfied: tokenizers<0.19,>=0.14 in c:\\users\\99299\\appdata\\local\\programs\\python\\python310\\lib\\site-packages (from transformers) (0.15.0)\n",
      "Requirement already satisfied: safetensors>=0.3.1 in c:\\users\\99299\\appdata\\local\\programs\\python\\python310\\lib\\site-packages (from transformers) (0.4.0)\n",
      "Requirement already satisfied: tqdm>=4.27 in c:\\users\\99299\\appdata\\local\\programs\\python\\python310\\lib\\site-packages (from transformers) (4.64.1)\n",
      "Requirement already satisfied: fsspec>=2023.5.0 in c:\\users\\99299\\appdata\\local\\programs\\python\\python310\\lib\\site-packages (from huggingface-hub<1.0,>=0.16.4->transformers) (2023.10.0)\n",
      "Requirement already satisfied: typing-extensions>=3.7.4.3 in c:\\users\\99299\\appdata\\local\\programs\\python\\python310\\lib\\site-packages (from huggingface-hub<1.0,>=0.16.4->transformers) (4.7.1)\n",
      "Requirement already satisfied: colorama in c:\\users\\99299\\appdata\\local\\programs\\python\\python310\\lib\\site-packages (from tqdm>=4.27->transformers) (0.4.5)\n",
      "Requirement already satisfied: charset-normalizer<4,>=2 in c:\\users\\99299\\appdata\\local\\programs\\python\\python310\\lib\\site-packages (from requests->transformers) (2.1.0)\n",
      "Requirement already satisfied: idna<4,>=2.5 in c:\\users\\99299\\appdata\\local\\programs\\python\\python310\\lib\\site-packages (from requests->transformers) (3.3)\n",
      "Requirement already satisfied: urllib3<3,>=1.21.1 in c:\\users\\99299\\appdata\\local\\programs\\python\\python310\\lib\\site-packages (from requests->transformers) (1.26.10)\n",
      "Requirement already satisfied: certifi>=2017.4.17 in c:\\users\\99299\\appdata\\local\\programs\\python\\python310\\lib\\site-packages (from requests->transformers) (2022.6.15)\n"
     ]
    }
   ],
   "source": [
    "pip install transformers\n"
   ]
  },
  {
   "cell_type": "code",
   "execution_count": null,
   "id": "1e9f28a7",
   "metadata": {},
   "outputs": [],
   "source": [
    "pip install scikit-learn\n"
   ]
  },
  {
   "cell_type": "code",
   "execution_count": null,
   "id": "06f1a992",
   "metadata": {},
   "outputs": [],
   "source": [
    "pip install --upgrade jupyter ipywidgets"
   ]
  },
  {
   "cell_type": "code",
   "execution_count": 39,
   "id": "ac9cf039-55df-492f-9091-1fc7f0ee4a38",
   "metadata": {},
   "outputs": [
    {
     "name": "stdout",
     "output_type": "stream",
     "text": [
      "Website information saved to 'website_information.json'.\n"
     ]
    },
    {
     "name": "stdin",
     "output_type": "stream",
     "text": [
      "Please ask:  tell me about the nutrition\n"
     ]
    },
    {
     "name": "stderr",
     "output_type": "stream",
     "text": [
      "The attention mask and the pad token id were not set. As a consequence, you may observe unexpected behavior. Please pass your input's `attention_mask` to obtain reliable results.\n",
      "Setting `pad_token_id` to `eos_token_id`:50256 for open-end generation.\n"
     ]
    },
    {
     "name": "stdout",
     "output_type": "stream",
     "text": [
      "Response: tell me about the nutrition of the food you eat.\n",
      "\n",
      "I'm not sure if you've ever heard of the \"food of the mind\" or if you've ever heard of the \"food of the mind.\"\n",
      "\n",
      "I'm not sure\n",
      "\n"
     ]
    },
    {
     "name": "stdin",
     "output_type": "stream",
     "text": [
      "Please ask:  what a healthy rate for weight loss\n"
     ]
    },
    {
     "name": "stderr",
     "output_type": "stream",
     "text": [
      "The attention mask and the pad token id were not set. As a consequence, you may observe unexpected behavior. Please pass your input's `attention_mask` to obtain reliable results.\n",
      "Setting `pad_token_id` to `eos_token_id`:50256 for open-end generation.\n"
     ]
    },
    {
     "name": "stdout",
     "output_type": "stream",
     "text": [
      "Response: what a healthy rate for weight loss.\n",
      "\n",
      "\"I think it's a good thing that we're doing this,\" he said. \"We're doing it because we're trying to get back to where we were before. We're trying to get\n",
      "\n"
     ]
    },
    {
     "name": "stdin",
     "output_type": "stream",
     "text": [
      "Please ask:  what is maintaining optimal blood pressure levels\n"
     ]
    },
    {
     "name": "stderr",
     "output_type": "stream",
     "text": [
      "The attention mask and the pad token id were not set. As a consequence, you may observe unexpected behavior. Please pass your input's `attention_mask` to obtain reliable results.\n",
      "Setting `pad_token_id` to `eos_token_id`:50256 for open-end generation.\n"
     ]
    },
    {
     "name": "stdout",
     "output_type": "stream",
     "text": [
      "Response: what is maintaining optimal blood pressure levels?\n",
      "\n",
      "The answer is that the body's natural blood pressure is too high. The body's natural blood pressure is too low.\n",
      "\n",
      "The body's natural blood pressure is too high.\n",
      "\n",
      "The body\n",
      "\n"
     ]
    },
    {
     "name": "stdin",
     "output_type": "stream",
     "text": [
      "Please ask:  Healthy eating in real life Get grocery shopping savvy with Healthline's A-Z ingredients dictionary\n"
     ]
    },
    {
     "name": "stderr",
     "output_type": "stream",
     "text": [
      "The attention mask and the pad token id were not set. As a consequence, you may observe unexpected behavior. Please pass your input's `attention_mask` to obtain reliable results.\n",
      "Setting `pad_token_id` to `eos_token_id`:50256 for open-end generation.\n"
     ]
    },
    {
     "name": "stdout",
     "output_type": "stream",
     "text": [
      "Response: Healthy eating in real life Get grocery shopping savvy with Healthline's A-Z ingredients dictionary.\n",
      "\n",
      "Healthy eating in real life Get grocery shopping savvy with Healthline's A-Z ingredients dictionary.\n",
      "\n",
      "Healthy eating in real life\n",
      "\n"
     ]
    },
    {
     "name": "stdin",
     "output_type": "stream",
     "text": [
      "Please ask:  what is your name\n"
     ]
    },
    {
     "name": "stderr",
     "output_type": "stream",
     "text": [
      "The attention mask and the pad token id were not set. As a consequence, you may observe unexpected behavior. Please pass your input's `attention_mask` to obtain reliable results.\n",
      "Setting `pad_token_id` to `eos_token_id`:50256 for open-end generation.\n"
     ]
    },
    {
     "name": "stdout",
     "output_type": "stream",
     "text": [
      "Response: what is your name?\"\n",
      "\n",
      "\"I'm a little bit of a mystery,\" she said. \"I'm not sure what I'm doing here. I'm just trying to get my name out there.\"\n",
      "\n",
      "\"I'm not sure what\n",
      "\n"
     ]
    },
    {
     "name": "stdin",
     "output_type": "stream",
     "text": [
      "Please ask:  ask my name\n"
     ]
    },
    {
     "name": "stderr",
     "output_type": "stream",
     "text": [
      "The attention mask and the pad token id were not set. As a consequence, you may observe unexpected behavior. Please pass your input's `attention_mask` to obtain reliable results.\n",
      "Setting `pad_token_id` to `eos_token_id`:50256 for open-end generation.\n"
     ]
    },
    {
     "name": "stdout",
     "output_type": "stream",
     "text": [
      "Response: ask my name, I'll be your friend.\n",
      "\n",
      "I'll be your friend.\n",
      "\n",
      "I'll be your friend.\n",
      "\n",
      "I'll be your friend.\n",
      "\n",
      "I'll be your friend.\n",
      "\n",
      "I'll be your friend.\n",
      "\n"
     ]
    },
    {
     "name": "stdin",
     "output_type": "stream",
     "text": [
      "Please ask:  bye\n"
     ]
    },
    {
     "name": "stdout",
     "output_type": "stream",
     "text": [
      "Goodbye!\n"
     ]
    }
   ],
   "source": [
    "import requests\n",
    "from bs4 import BeautifulSoup\n",
    "from transformers import GPT2Tokenizer, GPT2LMHeadModel\n",
    "from sklearn.feature_extraction.text import TfidfVectorizer\n",
    "import json\n",
    "\n",
    "def extract_website_information(url):\n",
    "    try:\n",
    "        # Fetch the webpage content\n",
    "        webpage = requests.get(url)\n",
    "        webpage.raise_for_status()  # Raise an exception for bad requests\n",
    "\n",
    "        # Parse the HTML content using BeautifulSoup\n",
    "        soup = BeautifulSoup(webpage.content, 'html.parser')\n",
    "\n",
    "        # Extract relevant information\n",
    "        paragraphs = soup.find_all('p')  # Adjust the tag based on the actual HTML structure\n",
    "\n",
    "        website_info = '\\n'.join(paragraph.get_text(strip=True) for paragraph in paragraphs)\n",
    "\n",
    "        return website_info\n",
    "\n",
    "    except requests.exceptions.RequestException as e:\n",
    "        print(f\"Error fetching the webpage: {e}\")\n",
    "        return None\n",
    "\n",
    "# Example usage:\n",
    "url = 'https://www.healthline.com/nutrition/'\n",
    "website_information = extract_website_information(url)\n",
    "\n",
    "if website_information:\n",
    "    # Remove extra spaces and lines\n",
    "    website_information_cleaned = ' '.join(website_information.split())\n",
    "\n",
    "    # Save the information into a JSON file\n",
    "    json_data = {\"WebsiteInformation\": website_information_cleaned}\n",
    "    with open('website_information.json', 'w') as json_file:\n",
    "        json.dump(json_data, json_file, indent=2)\n",
    "\n",
    "    print(\"Website information saved to 'website_information.json'.\")\n",
    "else:\n",
    "    print(\"No information was extracted.\")\n",
    "\n",
    "\n",
    "def create_vector_index():\n",
    "    with open('website_information.json', 'r') as f:\n",
    "        data = json.load(f)\n",
    "\n",
    "    # Use GPT model for vector representation\n",
    "    tokenizer = GPT2Tokenizer.from_pretrained('gpt2')\n",
    "    model = GPT2LMHeadModel.from_pretrained('gpt2')\n",
    "\n",
    "    # Vectorize documents using TF-IDF\n",
    "    documents = [data['WebsiteInformation']]  # Update to the correct key\n",
    "    vectorizer = TfidfVectorizer()\n",
    "    X = vectorizer.fit_transform(documents)\n",
    "\n",
    "    return X, data\n",
    "\n",
    "\n",
    "def answer_me(vector_index, data):\n",
    "    # Use GPT for generating responses based on the prompt\n",
    "    tokenizer = GPT2Tokenizer.from_pretrained('gpt2')\n",
    "    model = GPT2LMHeadModel.from_pretrained('gpt2')\n",
    "\n",
    "    generated_responses = set()\n",
    "\n",
    "    while True:\n",
    "        try:\n",
    "            prompt = input('Please ask: ')\n",
    "            if prompt.lower() in ['quit', 'exit', 'bye']:\n",
    "                print(\"Goodbye!\")\n",
    "                break\n",
    "\n",
    "            input_ids = tokenizer.encode(prompt, return_tensors='pt')\n",
    "            output = model.generate(input_ids, max_length=50, num_return_sequences=1)\n",
    "            response = tokenizer.decode(output[0], skip_special_tokens=True)\n",
    "\n",
    "            # Check if the response has already been generated\n",
    "            if response not in generated_responses:\n",
    "                generated_responses.add(response)\n",
    "                print(f\"Response: {response}\\n\")\n",
    "            else:\n",
    "                print(\"I'm sorry, I already gave a similar response.\\n\")\n",
    "\n",
    "        except Exception as e:\n",
    "            print(f\"An error occurred: {str(e)}\\n\")\n",
    "\n",
    "\n",
    "if __name__ == \"__main__\":\n",
    "    # Step 1: Scrape data from the website (if needed)\n",
    "    # scrape_veggabazaar_data()\n",
    "\n",
    "    # Step 2: Create a vector index using the scraped data\n",
    "    vector_index, data = create_vector_index()\n",
    "\n",
    "    # Step 3: Interact with the chatbot\n",
    "    answer_me(vector_index, data)\n"
   ]
  },
  {
   "cell_type": "code",
   "execution_count": null,
   "id": "738976b6-0571-4e72-a731-0dbe5b0ef8fc",
   "metadata": {},
   "outputs": [],
   "source": []
  },
  {
   "cell_type": "code",
   "execution_count": null,
   "id": "7d808d74-186d-442d-b808-8c0788b4cf34",
   "metadata": {},
   "outputs": [],
   "source": []
  }
 ],
 "metadata": {
  "kernelspec": {
   "display_name": "Python 3 (ipykernel)",
   "language": "python",
   "name": "python3"
  },
  "language_info": {
   "codemirror_mode": {
    "name": "ipython",
    "version": 3
   },
   "file_extension": ".py",
   "mimetype": "text/x-python",
   "name": "python",
   "nbconvert_exporter": "python",
   "pygments_lexer": "ipython3",
   "version": "3.10.5"
  }
 },
 "nbformat": 4,
 "nbformat_minor": 5
}
